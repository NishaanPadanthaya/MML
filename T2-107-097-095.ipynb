{
 "cells": [
  {
   "cell_type": "code",
   "execution_count": 1,
   "id": "165c0693",
   "metadata": {
    "_cell_guid": "b1076dfc-b9ad-4769-8c92-a6c4dae69d19",
    "_uuid": "8f2839f25d086af736a60e9eeb907d3b93b6e0e5",
    "execution": {
     "iopub.execute_input": "2024-04-03T12:16:26.307019Z",
     "iopub.status.busy": "2024-04-03T12:16:26.305946Z",
     "iopub.status.idle": "2024-04-03T12:16:27.213879Z",
     "shell.execute_reply": "2024-04-03T12:16:27.212201Z"
    },
    "papermill": {
     "duration": 0.916327,
     "end_time": "2024-04-03T12:16:27.216536",
     "exception": false,
     "start_time": "2024-04-03T12:16:26.300209",
     "status": "completed"
    },
    "tags": []
   },
   "outputs": [
    {
     "name": "stdout",
     "output_type": "stream",
     "text": [
      "/kaggle/input/mathematics-for-machine-learning-assignment-2/train_data.csv\n",
      "/kaggle/input/mathematics-for-machine-learning-assignment-2/test_data.csv\n"
     ]
    }
   ],
   "source": [
    "# This Python 3 environment comes with many helpful analytics libraries installed\n",
    "# It is defined by the kaggle/python Docker image: https://github.com/kaggle/docker-python\n",
    "# For example, here's several helpful packages to load\n",
    "\n",
    "import numpy as np # linear algebra\n",
    "import pandas as pd # data processing, CSV file I/O (e.g. pd.read_csv)\n",
    "\n",
    "# Input data files are available in the read-only \"../input/\" directory\n",
    "# For example, running this (by clicking run or pressing Shift+Enter) will list all files under the input directory\n",
    "\n",
    "import os\n",
    "for dirname, _, filenames in os.walk('/kaggle/input'):\n",
    "    for filename in filenames:\n",
    "        print(os.path.join(dirname, filename))\n",
    "\n",
    "# You can write up to 20GB to the current directory (/kaggle/working/) that gets preserved as output when you create a version using \"Save & Run All\" \n",
    "# You can also write temporary files to /kaggle/temp/, but they won't be saved outside of the current session"
   ]
  },
  {
   "cell_type": "code",
   "execution_count": 2,
   "id": "3c9d202e",
   "metadata": {
    "execution": {
     "iopub.execute_input": "2024-04-03T12:16:27.226592Z",
     "iopub.status.busy": "2024-04-03T12:16:27.226067Z",
     "iopub.status.idle": "2024-04-03T12:16:28.658586Z",
     "shell.execute_reply": "2024-04-03T12:16:28.657350Z"
    },
    "papermill": {
     "duration": 1.441055,
     "end_time": "2024-04-03T12:16:28.661917",
     "exception": false,
     "start_time": "2024-04-03T12:16:27.220862",
     "status": "completed"
    },
    "tags": []
   },
   "outputs": [],
   "source": [
    "import matplotlib.pyplot as plt\n",
    "import seaborn as sns"
   ]
  },
  {
   "cell_type": "code",
   "execution_count": 3,
   "id": "d61aa1d5",
   "metadata": {
    "execution": {
     "iopub.execute_input": "2024-04-03T12:16:28.671665Z",
     "iopub.status.busy": "2024-04-03T12:16:28.671312Z",
     "iopub.status.idle": "2024-04-03T12:16:28.703898Z",
     "shell.execute_reply": "2024-04-03T12:16:28.702834Z"
    },
    "papermill": {
     "duration": 0.040311,
     "end_time": "2024-04-03T12:16:28.706367",
     "exception": false,
     "start_time": "2024-04-03T12:16:28.666056",
     "status": "completed"
    },
    "tags": []
   },
   "outputs": [
    {
     "data": {
      "text/html": [
       "<div>\n",
       "<style scoped>\n",
       "    .dataframe tbody tr th:only-of-type {\n",
       "        vertical-align: middle;\n",
       "    }\n",
       "\n",
       "    .dataframe tbody tr th {\n",
       "        vertical-align: top;\n",
       "    }\n",
       "\n",
       "    .dataframe thead th {\n",
       "        text-align: right;\n",
       "    }\n",
       "</style>\n",
       "<table border=\"1\" class=\"dataframe\">\n",
       "  <thead>\n",
       "    <tr style=\"text-align: right;\">\n",
       "      <th></th>\n",
       "      <th>Date</th>\n",
       "      <th>Open</th>\n",
       "      <th>High</th>\n",
       "      <th>Low</th>\n",
       "      <th>Close</th>\n",
       "      <th>Volume</th>\n",
       "    </tr>\n",
       "  </thead>\n",
       "  <tbody>\n",
       "    <tr>\n",
       "      <th>0</th>\n",
       "      <td>2012-09-04</td>\n",
       "      <td>43.139999</td>\n",
       "      <td>43.389999</td>\n",
       "      <td>42.869999</td>\n",
       "      <td>43.250000</td>\n",
       "      <td>24591000</td>\n",
       "    </tr>\n",
       "    <tr>\n",
       "      <th>1</th>\n",
       "      <td>2012-09-05</td>\n",
       "      <td>43.389999</td>\n",
       "      <td>43.529999</td>\n",
       "      <td>43.080002</td>\n",
       "      <td>43.439999</td>\n",
       "      <td>8334800</td>\n",
       "    </tr>\n",
       "    <tr>\n",
       "      <th>2</th>\n",
       "      <td>2012-09-06</td>\n",
       "      <td>43.650002</td>\n",
       "      <td>44.259998</td>\n",
       "      <td>43.619999</td>\n",
       "      <td>44.240002</td>\n",
       "      <td>9875400</td>\n",
       "    </tr>\n",
       "    <tr>\n",
       "      <th>3</th>\n",
       "      <td>2012-09-07</td>\n",
       "      <td>44.430000</td>\n",
       "      <td>44.439999</td>\n",
       "      <td>43.919998</td>\n",
       "      <td>44.049999</td>\n",
       "      <td>8338300</td>\n",
       "    </tr>\n",
       "    <tr>\n",
       "      <th>4</th>\n",
       "      <td>2012-09-10</td>\n",
       "      <td>43.970001</td>\n",
       "      <td>44.380001</td>\n",
       "      <td>43.889999</td>\n",
       "      <td>44.259998</td>\n",
       "      <td>8995500</td>\n",
       "    </tr>\n",
       "  </tbody>\n",
       "</table>\n",
       "</div>"
      ],
      "text/plain": [
       "         Date       Open       High        Low      Close    Volume\n",
       "0  2012-09-04  43.139999  43.389999  42.869999  43.250000  24591000\n",
       "1  2012-09-05  43.389999  43.529999  43.080002  43.439999   8334800\n",
       "2  2012-09-06  43.650002  44.259998  43.619999  44.240002   9875400\n",
       "3  2012-09-07  44.430000  44.439999  43.919998  44.049999   8338300\n",
       "4  2012-09-10  43.970001  44.380001  43.889999  44.259998   8995500"
      ]
     },
     "execution_count": 3,
     "metadata": {},
     "output_type": "execute_result"
    }
   ],
   "source": [
    "df = pd.read_csv(\"/kaggle/input/mathematics-for-machine-learning-assignment-2/train_data.csv\")\n",
    "df.head()"
   ]
  },
  {
   "cell_type": "code",
   "execution_count": 4,
   "id": "e5a084b1",
   "metadata": {
    "execution": {
     "iopub.execute_input": "2024-04-03T12:16:28.717546Z",
     "iopub.status.busy": "2024-04-03T12:16:28.716273Z",
     "iopub.status.idle": "2024-04-03T12:16:28.734385Z",
     "shell.execute_reply": "2024-04-03T12:16:28.733327Z"
    },
    "papermill": {
     "duration": 0.025886,
     "end_time": "2024-04-03T12:16:28.736702",
     "exception": false,
     "start_time": "2024-04-03T12:16:28.710816",
     "status": "completed"
    },
    "tags": []
   },
   "outputs": [
    {
     "data": {
      "text/html": [
       "<div>\n",
       "<style scoped>\n",
       "    .dataframe tbody tr th:only-of-type {\n",
       "        vertical-align: middle;\n",
       "    }\n",
       "\n",
       "    .dataframe tbody tr th {\n",
       "        vertical-align: top;\n",
       "    }\n",
       "\n",
       "    .dataframe thead th {\n",
       "        text-align: right;\n",
       "    }\n",
       "</style>\n",
       "<table border=\"1\" class=\"dataframe\">\n",
       "  <thead>\n",
       "    <tr style=\"text-align: right;\">\n",
       "      <th></th>\n",
       "      <th>Date</th>\n",
       "      <th>Open</th>\n",
       "      <th>High</th>\n",
       "      <th>Low</th>\n",
       "      <th>Volume</th>\n",
       "    </tr>\n",
       "  </thead>\n",
       "  <tbody>\n",
       "    <tr>\n",
       "      <th>0</th>\n",
       "      <td>2016-03-07</td>\n",
       "      <td>51.840000</td>\n",
       "      <td>52.930000</td>\n",
       "      <td>51.750000</td>\n",
       "      <td>7466300</td>\n",
       "    </tr>\n",
       "    <tr>\n",
       "      <th>1</th>\n",
       "      <td>2016-03-08</td>\n",
       "      <td>52.360001</td>\n",
       "      <td>52.930000</td>\n",
       "      <td>52.290001</td>\n",
       "      <td>8269000</td>\n",
       "    </tr>\n",
       "    <tr>\n",
       "      <th>2</th>\n",
       "      <td>2016-03-09</td>\n",
       "      <td>52.580002</td>\n",
       "      <td>52.889999</td>\n",
       "      <td>52.099998</td>\n",
       "      <td>9150600</td>\n",
       "    </tr>\n",
       "    <tr>\n",
       "      <th>3</th>\n",
       "      <td>2016-03-10</td>\n",
       "      <td>52.689999</td>\n",
       "      <td>53.240002</td>\n",
       "      <td>52.430000</td>\n",
       "      <td>12267500</td>\n",
       "    </tr>\n",
       "    <tr>\n",
       "      <th>4</th>\n",
       "      <td>2016-03-11</td>\n",
       "      <td>53.020000</td>\n",
       "      <td>53.459999</td>\n",
       "      <td>52.779999</td>\n",
       "      <td>15532400</td>\n",
       "    </tr>\n",
       "  </tbody>\n",
       "</table>\n",
       "</div>"
      ],
      "text/plain": [
       "         Date       Open       High        Low    Volume\n",
       "0  2016-03-07  51.840000  52.930000  51.750000   7466300\n",
       "1  2016-03-08  52.360001  52.930000  52.290001   8269000\n",
       "2  2016-03-09  52.580002  52.889999  52.099998   9150600\n",
       "3  2016-03-10  52.689999  53.240002  52.430000  12267500\n",
       "4  2016-03-11  53.020000  53.459999  52.779999  15532400"
      ]
     },
     "execution_count": 4,
     "metadata": {},
     "output_type": "execute_result"
    }
   ],
   "source": [
    "test_df = pd.read_csv(\"/kaggle/input/mathematics-for-machine-learning-assignment-2/test_data.csv\")\n",
    "test_df.head()"
   ]
  },
  {
   "cell_type": "code",
   "execution_count": 5,
   "id": "cffb750d",
   "metadata": {
    "execution": {
     "iopub.execute_input": "2024-04-03T12:16:28.746934Z",
     "iopub.status.busy": "2024-04-03T12:16:28.746569Z",
     "iopub.status.idle": "2024-04-03T12:16:28.753029Z",
     "shell.execute_reply": "2024-04-03T12:16:28.751995Z"
    },
    "papermill": {
     "duration": 0.014093,
     "end_time": "2024-04-03T12:16:28.755111",
     "exception": false,
     "start_time": "2024-04-03T12:16:28.741018",
     "status": "completed"
    },
    "tags": []
   },
   "outputs": [
    {
     "data": {
      "text/plain": [
       "(880, 6)"
      ]
     },
     "execution_count": 5,
     "metadata": {},
     "output_type": "execute_result"
    }
   ],
   "source": [
    "df.shape"
   ]
  },
  {
   "cell_type": "code",
   "execution_count": 6,
   "id": "bc48bf72",
   "metadata": {
    "execution": {
     "iopub.execute_input": "2024-04-03T12:16:28.766183Z",
     "iopub.status.busy": "2024-04-03T12:16:28.765093Z",
     "iopub.status.idle": "2024-04-03T12:16:28.772128Z",
     "shell.execute_reply": "2024-04-03T12:16:28.771233Z"
    },
    "papermill": {
     "duration": 0.01475,
     "end_time": "2024-04-03T12:16:28.774245",
     "exception": false,
     "start_time": "2024-04-03T12:16:28.759495",
     "status": "completed"
    },
    "tags": []
   },
   "outputs": [
    {
     "data": {
      "text/plain": [
       "Index(['Date', 'Open', 'High', 'Low', 'Close', 'Volume'], dtype='object')"
      ]
     },
     "execution_count": 6,
     "metadata": {},
     "output_type": "execute_result"
    }
   ],
   "source": [
    "df.columns"
   ]
  },
  {
   "cell_type": "code",
   "execution_count": 7,
   "id": "ea56d714",
   "metadata": {
    "execution": {
     "iopub.execute_input": "2024-04-03T12:16:28.785471Z",
     "iopub.status.busy": "2024-04-03T12:16:28.784584Z",
     "iopub.status.idle": "2024-04-03T12:16:53.863565Z",
     "shell.execute_reply": "2024-04-03T12:16:53.862198Z"
    },
    "papermill": {
     "duration": 25.087413,
     "end_time": "2024-04-03T12:16:53.866225",
     "exception": false,
     "start_time": "2024-04-03T12:16:28.778812",
     "status": "completed"
    },
    "tags": []
   },
   "outputs": [
    {
     "name": "stderr",
     "output_type": "stream",
     "text": [
      "/opt/conda/lib/python3.10/site-packages/seaborn/_oldcore.py:1119: FutureWarning: use_inf_as_na option is deprecated and will be removed in a future version. Convert inf values to NaN before operating instead.\n",
      "  with pd.option_context('mode.use_inf_as_na', True):\n",
      "/opt/conda/lib/python3.10/site-packages/seaborn/_oldcore.py:1119: FutureWarning: use_inf_as_na option is deprecated and will be removed in a future version. Convert inf values to NaN before operating instead.\n",
      "  with pd.option_context('mode.use_inf_as_na', True):\n"
     ]
    },
    {
     "data": {
      "image/png": "[encoded data removed]",
      "text/plain": [
       "<Figure size 640x480 with 1 Axes>"
      ]
     },
     "metadata": {},
     "output_type": "display_data"
    },
    {
     "name": "stderr",
     "output_type": "stream",
     "text": [
      "/opt/conda/lib/python3.10/site-packages/seaborn/_oldcore.py:1119: FutureWarning: use_inf_as_na option is deprecated and will be removed in a future version. Convert inf values to NaN before operating instead.\n",
      "  with pd.option_context('mode.use_inf_as_na', True):\n",
      "/opt/conda/lib/python3.10/site-packages/seaborn/_oldcore.py:1119: FutureWarning: use_inf_as_na option is deprecated and will be removed in a future version. Convert inf values to NaN before operating instead.\n",
      "  with pd.option_context('mode.use_inf_as_na', True):\n"
     ]
    },
    {
     "data": {
      "image/png": "[encoded data removed]",
      "text/plain": [
       "<Figure size 640x480 with 1 Axes>"
      ]
     },
     "metadata": {},
     "output_type": "display_data"
    },
    {
     "name": "stderr",
     "output_type": "stream",
     "text": [
      "/opt/conda/lib/python3.10/site-packages/seaborn/_oldcore.py:1119: FutureWarning: use_inf_as_na option is deprecated and will be removed in a future version. Convert inf values to NaN before operating instead.\n",
      "  with pd.option_context('mode.use_inf_as_na', True):\n",
      "/opt/conda/lib/python3.10/site-packages/seaborn/_oldcore.py:1119: FutureWarning: use_inf_as_na option is deprecated and will be removed in a future version. Convert inf values to NaN before operating instead.\n",
      "  with pd.option_context('mode.use_inf_as_na', True):\n"
     ]
    },
    {
     "data": {
      "image/png": "[encoded data removed]",
      "text/plain": [
       "<Figure size 640x480 with 1 Axes>"
      ]
     },
     "metadata": {},
     "output_type": "display_data"
    },
    {
     "name": "stderr",
     "output_type": "stream",
     "text": [
      "/opt/conda/lib/python3.10/site-packages/seaborn/_oldcore.py:1119: FutureWarning: use_inf_as_na option is deprecated and will be removed in a future version. Convert inf values to NaN before operating instead.\n",
      "  with pd.option_context('mode.use_inf_as_na', True):\n",
      "/opt/conda/lib/python3.10/site-packages/seaborn/_oldcore.py:1119: FutureWarning: use_inf_as_na option is deprecated and will be removed in a future version. Convert inf values to NaN before operating instead.\n",
      "  with pd.option_context('mode.use_inf_as_na', True):\n"
     ]
    },
    {
     "data": {
      "image/png": "[encoded data removed]",
      "text/plain": [
       "<Figure size 640x480 with 1 Axes>"
      ]
     },
     "metadata": {},
     "output_type": "display_data"
    },
    {
     "name": "stderr",
     "output_type": "stream",
     "text": [
      "/opt/conda/lib/python3.10/site-packages/seaborn/_oldcore.py:1119: FutureWarning: use_inf_as_na option is deprecated and will be removed in a future version. Convert inf values to NaN before operating instead.\n",
      "  with pd.option_context('mode.use_inf_as_na', True):\n",
      "/opt/conda/lib/python3.10/site-packages/seaborn/_oldcore.py:1119: FutureWarning: use_inf_as_na option is deprecated and will be removed in a future version. Convert inf values to NaN before operating instead.\n",
      "  with pd.option_context('mode.use_inf_as_na', True):\n"
     ]
    },
    {
     "data": {
      "image/png": "[encoded data removed]",
      "text/plain": [
       "<Figure size 640x480 with 1 Axes>"
      ]
     },
     "metadata": {},
     "output_type": "display_data"
    }
   ],
   "source": [
    "for column in df.columns:\n",
    "    if column != 'Date':\n",
    "        sns.lineplot(df, y=df[column], x=df['Date'])\n",
    "        plt.show()"
   ]
  },
  {
   "cell_type": "code",
   "execution_count": 8,
   "id": "11f4ce75",
   "metadata": {
    "execution": {
     "iopub.execute_input": "2024-04-03T12:16:53.884776Z",
     "iopub.status.busy": "2024-04-03T12:16:53.884355Z",
     "iopub.status.idle": "2024-04-03T12:16:53.890604Z",
     "shell.execute_reply": "2024-04-03T12:16:53.889374Z"
    },
    "papermill": {
     "duration": 0.018666,
     "end_time": "2024-04-03T12:16:53.893142",
     "exception": false,
     "start_time": "2024-04-03T12:16:53.874476",
     "status": "completed"
    },
    "tags": []
   },
   "outputs": [],
   "source": [
    "X_test = test_df[['Open', 'High', 'Low']]"
   ]
  },
  {
   "cell_type": "code",
   "execution_count": 9,
   "id": "5431bc39",
   "metadata": {
    "execution": {
     "iopub.execute_input": "2024-04-03T12:16:53.910561Z",
     "iopub.status.busy": "2024-04-03T12:16:53.910136Z",
     "iopub.status.idle": "2024-04-03T12:16:54.333360Z",
     "shell.execute_reply": "2024-04-03T12:16:54.332008Z"
    },
    "papermill": {
     "duration": 0.437454,
     "end_time": "2024-04-03T12:16:54.338585",
     "exception": false,
     "start_time": "2024-04-03T12:16:53.901131",
     "status": "completed"
    },
    "tags": []
   },
   "outputs": [
    {
     "name": "stdout",
     "output_type": "stream",
     "text": [
      "[[52.66384946]\n",
      " [52.69641898]\n",
      " [52.44749871]\n",
      " [52.90376511]\n",
      " [53.13802812]\n",
      " [52.97249091]\n",
      " [52.17820059]\n",
      " [51.73848291]\n",
      " [51.47898174]\n",
      " [52.14138026]\n",
      " [52.51398531]\n",
      " [53.23225003]\n",
      " [53.02211435]\n",
      " [53.04499749]\n",
      " [52.85677605]\n",
      " [53.03209027]\n",
      " [53.1733559 ]\n",
      " [53.11667535]\n",
      " [53.52730758]\n",
      " [54.3334324 ]\n",
      " [54.45896861]\n",
      " [55.49504008]\n",
      " [55.41974671]\n",
      " [55.36766414]\n",
      " [55.32922096]\n",
      " [55.51515062]\n",
      " [55.67860151]\n",
      " [56.34252012]\n",
      " [56.01038615]\n",
      " [56.49163664]\n",
      " [56.88496963]\n",
      " [56.81433387]\n",
      " [56.79261435]\n",
      " [56.7268109 ]\n",
      " [56.18529511]\n",
      " [55.94047821]\n",
      " [56.40619602]\n",
      " [55.84489362]\n",
      " [54.87495046]\n",
      " [55.07401681]\n",
      " [55.09683602]\n",
      " [54.71485419]\n",
      " [53.71116562]\n",
      " [53.3786265 ]\n",
      " [54.08689945]\n",
      " [54.49518679]\n",
      " [54.36883045]\n",
      " [54.08412223]\n",
      " [54.16800831]\n",
      " [54.45024937]\n",
      " [54.15234383]\n",
      " [54.62637168]\n",
      " [54.72043937]\n",
      " [55.21789483]\n",
      " [54.91884667]\n",
      " [55.64876568]\n",
      " [56.4218834 ]\n",
      " [56.44895519]\n",
      " [56.48945014]\n",
      " [56.2995294 ]\n",
      " [56.18260239]\n",
      " [56.60796039]\n",
      " [56.46246201]\n",
      " [57.14083059]\n",
      " [57.0853195 ]\n",
      " [57.63575033]\n",
      " [57.29950887]\n",
      " [56.74236047]\n",
      " [56.42012056]\n",
      " [56.01806715]\n",
      " [56.07872168]\n",
      " [56.9844422 ]\n",
      " [56.30728577]\n",
      " [56.28082466]\n",
      " [56.31300619]\n",
      " [57.00758648]\n",
      " [57.27751812]\n",
      " [56.68933977]\n",
      " [55.27707124]\n",
      " [55.29764198]\n",
      " [56.81928732]\n",
      " [57.33342548]\n",
      " [57.71918514]\n",
      " [57.95568518]\n",
      " [58.91731059]\n",
      " [58.49041283]\n",
      " [59.24377998]\n",
      " [59.49149289]\n",
      " [59.46026977]\n",
      " [59.57514393]\n",
      " [59.51156101]\n",
      " [59.42275511]\n",
      " [59.11471048]\n",
      " [58.9987981 ]\n",
      " [58.78353567]\n",
      " [58.66667545]\n",
      " [58.63766223]\n",
      " [58.31923072]\n",
      " [58.30375443]\n",
      " [58.25862819]\n",
      " [58.16702012]\n",
      " [58.59187285]\n",
      " [58.61372937]\n",
      " [58.2964353 ]\n",
      " [57.56466533]\n",
      " [58.01119187]\n",
      " [63.5146211 ]\n",
      " [62.40198267]\n",
      " [62.67501417]\n",
      " [62.82458914]\n",
      " [63.38782944]\n",
      " [63.1002939 ]\n",
      " [63.43259975]\n",
      " [62.99734727]\n",
      " [62.9585449 ]\n",
      " [63.39155552]\n",
      " [63.03877343]\n",
      " [63.3074622 ]\n",
      " [63.46428401]\n",
      " [62.96185678]\n",
      " [62.55102389]\n",
      " [62.58586586]\n",
      " [62.90099727]\n",
      " [62.56364204]\n",
      " [62.54175656]\n",
      " [62.58020393]\n",
      " [63.01834305]\n",
      " [63.10768832]\n",
      " [62.87722191]\n",
      " [62.96712726]\n",
      " [62.29025501]\n",
      " [63.15494545]\n",
      " [62.00543292]\n",
      " [61.77111838]\n",
      " [62.26822454]\n",
      " [62.18366647]\n",
      " [61.66576934]\n",
      " [62.05702432]\n",
      " [62.36093821]\n",
      " [63.17451835]\n",
      " [62.91980751]\n",
      " [62.0093739 ]\n",
      " [62.20573591]\n",
      " [62.96737279]\n",
      " [62.01460121]\n",
      " [62.45818996]\n",
      " [62.04048745]\n",
      " [62.41894184]\n",
      " [62.68568964]\n",
      " [62.05886188]\n",
      " [62.36191056]\n",
      " [64.1885257 ]\n",
      " [62.36941223]\n",
      " [61.96033353]\n",
      " [62.5327165 ]\n",
      " [62.31641085]\n",
      " [61.16208586]\n",
      " [62.33230338]\n",
      " [61.90281208]\n",
      " [61.89886101]\n",
      " [61.38989698]\n",
      " [60.8545045 ]\n",
      " [61.50520113]\n",
      " [60.99065105]\n",
      " [61.72415575]\n",
      " [59.47642571]\n",
      " [58.55831135]\n",
      " [59.09731457]\n",
      " [59.1201867 ]\n",
      " [58.53757284]\n",
      " [58.99934834]\n",
      " [59.95155529]\n",
      " [60.36787166]\n",
      " [64.08069025]\n",
      " [65.17672179]\n",
      " [63.99439182]\n",
      " [63.45120419]\n",
      " [63.18053055]\n",
      " [63.04221404]\n",
      " [62.34821072]\n",
      " [61.94720626]\n",
      " [62.03427753]\n",
      " [61.73136199]\n",
      " [61.15341614]\n",
      " [62.11927073]\n",
      " [61.74524542]\n",
      " [62.20337632]\n",
      " [61.39276862]\n",
      " [60.80450253]\n",
      " [61.06039867]\n",
      " [60.41346596]\n",
      " [59.86639159]\n",
      " [59.25802224]\n",
      " [60.00137021]\n",
      " [61.20444868]\n",
      " [61.77982127]\n",
      " [61.44147724]\n",
      " [62.36166753]\n",
      " [62.30726416]\n",
      " [62.46517788]\n",
      " [61.53299749]\n",
      " [61.00410218]\n",
      " [59.91896827]\n",
      " [59.53021138]\n",
      " [59.37088064]\n",
      " [59.75463908]\n",
      " [59.37414663]\n",
      " [59.20609274]\n",
      " [58.62301223]\n",
      " [60.06584086]\n",
      " [60.32009342]\n",
      " [60.23698973]\n",
      " [59.93469293]\n",
      " [61.09811482]\n",
      " [60.3222051 ]\n",
      " [62.0497094 ]\n",
      " [62.76720049]\n",
      " [62.32167698]\n",
      " [61.46012329]\n",
      " [61.38645358]\n",
      " [60.34051556]\n",
      " [62.54262088]\n",
      " [62.05981768]\n",
      " [61.00896246]\n",
      " [60.86317223]\n",
      " [60.8744478 ]\n",
      " [61.70466643]\n",
      " [61.169984  ]\n",
      " [61.89729654]\n",
      " [61.77468165]\n",
      " [63.85729696]\n",
      " [63.7652999 ]\n",
      " [64.66462148]\n",
      " [64.31053636]\n",
      " [64.1890079 ]\n",
      " [64.55752149]\n",
      " [64.13678501]\n",
      " [64.55874691]\n",
      " [65.32675813]\n",
      " [65.5665029 ]\n",
      " [64.80007162]\n",
      " [65.12801457]\n",
      " [65.50755793]\n",
      " [65.28412738]\n",
      " [65.75687657]\n",
      " [65.89048887]\n",
      " [65.57893899]\n",
      " [65.81254661]\n",
      " [66.43222707]\n",
      " [66.12823682]\n",
      " [66.21279251]\n",
      " [66.41358235]\n",
      " [65.90614304]\n",
      " [65.5058186 ]\n",
      " [65.54925679]\n",
      " [65.65107882]\n",
      " [64.3947356 ]\n",
      " [64.2218938 ]\n",
      " [64.6179743 ]\n",
      " [64.23889544]\n",
      " [64.25774213]\n",
      " [63.98996689]\n",
      " [63.99244275]\n",
      " [63.48552943]\n",
      " [63.48363334]\n",
      " [63.12907785]\n",
      " [63.10659919]\n",
      " [62.99612716]\n",
      " [63.75157801]\n",
      " [63.3507165 ]\n",
      " [63.38421963]\n",
      " [63.36026883]\n",
      " [63.41880525]\n",
      " [63.80664065]\n",
      " [63.56723501]\n",
      " [62.92740581]\n",
      " [62.70695163]\n",
      " [62.36170759]\n",
      " [62.90361945]\n",
      " [62.645979  ]\n",
      " [62.441828  ]\n",
      " [61.98866307]\n",
      " [62.26451673]\n",
      " [62.305652  ]\n",
      " [62.13575218]\n",
      " [62.04215988]\n",
      " [62.56129843]\n",
      " [62.54099181]\n",
      " [62.506117  ]\n",
      " [62.19088574]\n",
      " [62.18969866]\n",
      " [62.87906187]\n",
      " [63.33139165]\n",
      " [63.41310154]\n",
      " [63.80050569]\n",
      " [64.2126534 ]\n",
      " [63.49078292]\n",
      " [63.66764244]\n",
      " [64.75999761]\n",
      " [63.82716544]\n",
      " [63.32477685]\n",
      " [63.46487997]\n",
      " [63.07596786]\n",
      " [64.20406024]\n",
      " [63.52329977]\n",
      " [64.11028502]\n",
      " [64.33560497]\n",
      " [64.82588373]\n",
      " [64.72005629]\n",
      " [64.8719059 ]\n",
      " [64.78806518]\n",
      " [65.21188968]\n",
      " [64.896511  ]\n",
      " [65.19019631]\n",
      " [64.80592323]\n",
      " [64.51668547]\n",
      " [64.09599259]\n",
      " [63.35398761]\n",
      " [64.12685471]\n",
      " [64.33579499]\n",
      " [63.23380008]\n",
      " [63.38903588]\n",
      " [62.98478096]\n",
      " [63.15993056]\n",
      " [63.51643309]\n",
      " [64.62114168]\n",
      " [65.32172621]\n",
      " [66.02572107]\n",
      " [66.02946822]\n",
      " [65.97922392]\n",
      " [65.64032806]\n",
      " [65.32530925]\n",
      " [64.35129393]\n",
      " [64.22665334]\n",
      " [64.36742986]\n",
      " [64.26032612]\n",
      " [63.25926328]\n",
      " [62.89642859]\n",
      " [62.75724081]\n",
      " [62.44034558]\n",
      " [62.8878533 ]\n",
      " [62.48618288]\n",
      " [63.11895591]\n",
      " [62.74724893]\n",
      " [62.28116511]\n",
      " [62.56301315]\n",
      " [62.97635771]\n",
      " [62.65671284]\n",
      " [62.64214129]\n",
      " [62.44993343]\n",
      " [61.80359505]\n",
      " [63.81673299]\n",
      " [63.79179204]\n",
      " [63.68211143]\n",
      " [63.88740227]\n",
      " [63.31447201]\n",
      " [63.46669253]\n",
      " [63.0920051 ]\n",
      " [62.70627394]\n",
      " [62.30958825]\n",
      " [62.36484207]\n",
      " [62.24415275]\n",
      " [62.62988428]\n",
      " [62.60271822]\n",
      " [62.66668505]\n",
      " [62.63391404]\n",
      " [62.28232904]\n",
      " [61.27458782]\n",
      " [61.77261937]\n",
      " [62.23160673]\n",
      " [62.31183944]\n",
      " [62.6287589 ]\n",
      " [62.99549739]\n",
      " [63.15149516]\n",
      " [62.76380112]\n",
      " [62.81733177]\n",
      " [63.45508837]\n",
      " [63.75781482]]\n"
     ]
    }
   ],
   "source": [
    "X_train = df[['Open', 'High', 'Low']]\n",
    "y_train = df[['Close']]\n",
    "\n",
    "from sklearn.linear_model import LinearRegression\n",
    "model = LinearRegression()\n",
    "model.fit(X_train, y_train)\n",
    "predicted_df = model.predict(X_test)\n",
    "print(predicted_df)"
   ]
  },
  {
   "cell_type": "code",
   "execution_count": 10,
   "id": "84ce266f",
   "metadata": {
    "execution": {
     "iopub.execute_input": "2024-04-03T12:16:54.357331Z",
     "iopub.status.busy": "2024-04-03T12:16:54.356898Z",
     "iopub.status.idle": "2024-04-03T12:16:54.368706Z",
     "shell.execute_reply": "2024-04-03T12:16:54.367541Z"
    },
    "papermill": {
     "duration": 0.023852,
     "end_time": "2024-04-03T12:16:54.370974",
     "exception": false,
     "start_time": "2024-04-03T12:16:54.347122",
     "status": "completed"
    },
    "tags": []
   },
   "outputs": [
    {
     "data": {
      "text/html": [
       "<div>\n",
       "<style scoped>\n",
       "    .dataframe tbody tr th:only-of-type {\n",
       "        vertical-align: middle;\n",
       "    }\n",
       "\n",
       "    .dataframe tbody tr th {\n",
       "        vertical-align: top;\n",
       "    }\n",
       "\n",
       "    .dataframe thead th {\n",
       "        text-align: right;\n",
       "    }\n",
       "</style>\n",
       "<table border=\"1\" class=\"dataframe\">\n",
       "  <thead>\n",
       "    <tr style=\"text-align: right;\">\n",
       "      <th></th>\n",
       "      <th>Predicted Close</th>\n",
       "    </tr>\n",
       "  </thead>\n",
       "  <tbody>\n",
       "    <tr>\n",
       "      <th>0</th>\n",
       "      <td>52.663849</td>\n",
       "    </tr>\n",
       "    <tr>\n",
       "      <th>1</th>\n",
       "      <td>52.696419</td>\n",
       "    </tr>\n",
       "    <tr>\n",
       "      <th>2</th>\n",
       "      <td>52.447499</td>\n",
       "    </tr>\n",
       "    <tr>\n",
       "      <th>3</th>\n",
       "      <td>52.903765</td>\n",
       "    </tr>\n",
       "    <tr>\n",
       "      <th>4</th>\n",
       "      <td>53.138028</td>\n",
       "    </tr>\n",
       "    <tr>\n",
       "      <th>...</th>\n",
       "      <td>...</td>\n",
       "    </tr>\n",
       "    <tr>\n",
       "      <th>373</th>\n",
       "      <td>63.151495</td>\n",
       "    </tr>\n",
       "    <tr>\n",
       "      <th>374</th>\n",
       "      <td>62.763801</td>\n",
       "    </tr>\n",
       "    <tr>\n",
       "      <th>375</th>\n",
       "      <td>62.817332</td>\n",
       "    </tr>\n",
       "    <tr>\n",
       "      <th>376</th>\n",
       "      <td>63.455088</td>\n",
       "    </tr>\n",
       "    <tr>\n",
       "      <th>377</th>\n",
       "      <td>63.757815</td>\n",
       "    </tr>\n",
       "  </tbody>\n",
       "</table>\n",
       "<p>378 rows × 1 columns</p>\n",
       "</div>"
      ],
      "text/plain": [
       "     Predicted Close\n",
       "0          52.663849\n",
       "1          52.696419\n",
       "2          52.447499\n",
       "3          52.903765\n",
       "4          53.138028\n",
       "..               ...\n",
       "373        63.151495\n",
       "374        62.763801\n",
       "375        62.817332\n",
       "376        63.455088\n",
       "377        63.757815\n",
       "\n",
       "[378 rows x 1 columns]"
      ]
     },
     "execution_count": 10,
     "metadata": {},
     "output_type": "execute_result"
    }
   ],
   "source": [
    "pred = pd.DataFrame(predicted_df, columns = ['Predicted Close'])\n",
    "pred"
   ]
  },
  {
   "cell_type": "code",
   "execution_count": 11,
   "id": "7b5677b1",
   "metadata": {
    "execution": {
     "iopub.execute_input": "2024-04-03T12:16:54.390338Z",
     "iopub.status.busy": "2024-04-03T12:16:54.389674Z",
     "iopub.status.idle": "2024-04-03T12:16:54.394603Z",
     "shell.execute_reply": "2024-04-03T12:16:54.393743Z"
    },
    "papermill": {
     "duration": 0.017258,
     "end_time": "2024-04-03T12:16:54.396826",
     "exception": false,
     "start_time": "2024-04-03T12:16:54.379568",
     "status": "completed"
    },
    "tags": []
   },
   "outputs": [],
   "source": [
    "id1 = list(range(1, 379))"
   ]
  },
  {
   "cell_type": "code",
   "execution_count": 12,
   "id": "78c20342",
   "metadata": {
    "execution": {
     "iopub.execute_input": "2024-04-03T12:16:54.416379Z",
     "iopub.status.busy": "2024-04-03T12:16:54.415710Z",
     "iopub.status.idle": "2024-04-03T12:16:54.426787Z",
     "shell.execute_reply": "2024-04-03T12:16:54.425621Z"
    },
    "papermill": {
     "duration": 0.02355,
     "end_time": "2024-04-03T12:16:54.429094",
     "exception": false,
     "start_time": "2024-04-03T12:16:54.405544",
     "status": "completed"
    },
    "tags": []
   },
   "outputs": [
    {
     "data": {
      "text/html": [
       "<div>\n",
       "<style scoped>\n",
       "    .dataframe tbody tr th:only-of-type {\n",
       "        vertical-align: middle;\n",
       "    }\n",
       "\n",
       "    .dataframe tbody tr th {\n",
       "        vertical-align: top;\n",
       "    }\n",
       "\n",
       "    .dataframe thead th {\n",
       "        text-align: right;\n",
       "    }\n",
       "</style>\n",
       "<table border=\"1\" class=\"dataframe\">\n",
       "  <thead>\n",
       "    <tr style=\"text-align: right;\">\n",
       "      <th></th>\n",
       "      <th>ID</th>\n",
       "    </tr>\n",
       "  </thead>\n",
       "  <tbody>\n",
       "    <tr>\n",
       "      <th>0</th>\n",
       "      <td>1</td>\n",
       "    </tr>\n",
       "    <tr>\n",
       "      <th>1</th>\n",
       "      <td>2</td>\n",
       "    </tr>\n",
       "    <tr>\n",
       "      <th>2</th>\n",
       "      <td>3</td>\n",
       "    </tr>\n",
       "    <tr>\n",
       "      <th>3</th>\n",
       "      <td>4</td>\n",
       "    </tr>\n",
       "    <tr>\n",
       "      <th>4</th>\n",
       "      <td>5</td>\n",
       "    </tr>\n",
       "    <tr>\n",
       "      <th>...</th>\n",
       "      <td>...</td>\n",
       "    </tr>\n",
       "    <tr>\n",
       "      <th>373</th>\n",
       "      <td>374</td>\n",
       "    </tr>\n",
       "    <tr>\n",
       "      <th>374</th>\n",
       "      <td>375</td>\n",
       "    </tr>\n",
       "    <tr>\n",
       "      <th>375</th>\n",
       "      <td>376</td>\n",
       "    </tr>\n",
       "    <tr>\n",
       "      <th>376</th>\n",
       "      <td>377</td>\n",
       "    </tr>\n",
       "    <tr>\n",
       "      <th>377</th>\n",
       "      <td>378</td>\n",
       "    </tr>\n",
       "  </tbody>\n",
       "</table>\n",
       "<p>378 rows × 1 columns</p>\n",
       "</div>"
      ],
      "text/plain": [
       "      ID\n",
       "0      1\n",
       "1      2\n",
       "2      3\n",
       "3      4\n",
       "4      5\n",
       "..   ...\n",
       "373  374\n",
       "374  375\n",
       "375  376\n",
       "376  377\n",
       "377  378\n",
       "\n",
       "[378 rows x 1 columns]"
      ]
     },
     "execution_count": 12,
     "metadata": {},
     "output_type": "execute_result"
    }
   ],
   "source": [
    "id_df = pd.DataFrame(id1, columns=['ID'])\n",
    "id_df"
   ]
  },
  {
   "cell_type": "code",
   "execution_count": 13,
   "id": "a575ac63",
   "metadata": {
    "execution": {
     "iopub.execute_input": "2024-04-03T12:16:54.448943Z",
     "iopub.status.busy": "2024-04-03T12:16:54.448346Z",
     "iopub.status.idle": "2024-04-03T12:16:54.457713Z",
     "shell.execute_reply": "2024-04-03T12:16:54.456778Z"
    },
    "papermill": {
     "duration": 0.022111,
     "end_time": "2024-04-03T12:16:54.460083",
     "exception": false,
     "start_time": "2024-04-03T12:16:54.437972",
     "status": "completed"
    },
    "tags": []
   },
   "outputs": [],
   "source": [
    "merged_df = pd.concat([id_df, pred], axis=1)\n",
    "merged_df.to_csv(\"submission.csv\", index=False)"
   ]
  }
 ],
 "metadata": {
  "kaggle": {
   "accelerator": "none",
   "dataSources": [
    {
     "databundleVersionId": 8028239,
     "sourceId": 73010,
     "sourceType": "competition"
    }
   ],
   "dockerImageVersionId": 30673,
   "isGpuEnabled": false,
   "isInternetEnabled": true,
   "language": "python",
   "sourceType": "notebook"
  },
  "kernelspec": {
   "display_name": "Python 3",
   "language": "python",
   "name": "python3"
  },
  "language_info": {
   "codemirror_mode": {
    "name": "ipython",
    "version": 3
   },
   "file_extension": ".py",
   "mimetype": "text/x-python",
   "name": "python",
   "nbconvert_exporter": "python",
   "pygments_lexer": "ipython3",
   "version": "3.10.13"
  },
  "papermill": {
   "default_parameters": {},
   "duration": 31.769614,
   "end_time": "2024-04-03T12:16:55.290254",
   "environment_variables": {},
   "exception": null,
   "input_path": "__notebook__.ipynb",
   "output_path": "__notebook__.ipynb",
   "parameters": {},
   "start_time": "2024-04-03T12:16:23.520640",
   "version": "2.5.0"
  }
 },
 "nbformat": 4,
 "nbformat_minor": 5
}
